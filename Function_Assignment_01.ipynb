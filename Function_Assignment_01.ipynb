{
 "cells": [
  {
   "cell_type": "code",
   "execution_count": 1,
   "id": "c40c8720",
   "metadata": {},
   "outputs": [],
   "source": [
    "#Create Function\n",
    "#Subfields()\n",
    "#Sub-fields in AI are:\n",
    "   # Machine LearningNeural \n",
    "   #NetworksVisionRobotics\n",
    "#Speech Processing\n",
    "    #Natural Language Processing\n",
    "def subfields():\n",
    "    print('sub-fields in AI are:')\n",
    "    print('Machine Learning')\n",
    "    print('Neural networks')\n",
    "    print('Vision')\n",
    "    print('Robotics')\n",
    "    print('Speech Processing')\n",
    "    print('Natural Language Processing')"
   ]
  },
  {
   "cell_type": "code",
   "execution_count": 2,
   "id": "202d95a5",
   "metadata": {},
   "outputs": [
    {
     "name": "stdout",
     "output_type": "stream",
     "text": [
      "sub-fields in AI are:\n",
      "Machine Learning\n",
      "Neural networks\n",
      "Vision\n",
      "Robotics\n",
      "Speech Processing\n",
      "Natural Language Processing\n"
     ]
    }
   ],
   "source": [
    "subfields()"
   ]
  },
  {
   "cell_type": "code",
   "execution_count": 3,
   "id": "6279eb82",
   "metadata": {},
   "outputs": [
    {
     "name": "stdout",
     "output_type": "stream",
     "text": [
      "enter a number10\n"
     ]
    }
   ],
   "source": [
    "#create function\n",
    "num=int(input('enter a number'))\n",
    "def oddeven():\n",
    "    if (num % 2)==0:\n",
    "        print(num,'is even number')\n",
    "    else:\n",
    "        print(num,'is odd number')"
   ]
  },
  {
   "cell_type": "code",
   "execution_count": 4,
   "id": "31a08c06",
   "metadata": {},
   "outputs": [
    {
     "name": "stdout",
     "output_type": "stream",
     "text": [
      "10 is even number\n"
     ]
    }
   ],
   "source": [
    "oddeven()"
   ]
  },
  {
   "cell_type": "code",
   "execution_count": 5,
   "id": "b7bab76e",
   "metadata": {},
   "outputs": [
    {
     "name": "stdout",
     "output_type": "stream",
     "text": [
      "enter a gendermale\n",
      "enter a age18\n"
     ]
    }
   ],
   "source": [
    "#create function\n",
    "gender=input('enter a gender')\n",
    "age=int(input('enter a age'))\n",
    "def Eleigle():\n",
    "    if(gender=='male'):\n",
    "        print('your gender:',gender)\n",
    "    else:\n",
    "        print('your gender:',gender)\n",
    "    if(age>=18):\n",
    "        print(\"your age:\",age)\n",
    "        print('not eleigle')\n",
    "    else:\n",
    "        print(age,\"eleigle\")"
   ]
  },
  {
   "cell_type": "code",
   "execution_count": 6,
   "id": "2f9b2f77",
   "metadata": {},
   "outputs": [
    {
     "name": "stdout",
     "output_type": "stream",
     "text": [
      "your gender: male\n",
      "your age: 18\n",
      "not eleigle\n"
     ]
    }
   ],
   "source": [
    "Eleigle()"
   ]
  },
  {
   "cell_type": "code",
   "execution_count": 9,
   "id": "2115c455",
   "metadata": {},
   "outputs": [],
   "source": [
    "#creating percentage function\n",
    "def percentage():\n",
    "    subject1=int(input('enter subject1'))\n",
    "    subject2=int(input('enter subject2'))\n",
    "    subject3=int(input('enter subject3'))\n",
    "    subject4=int(input('enter subject4'))\n",
    "    subject5=int(input('enter subject5'))\n",
    "    print('subject1=',subject1)\n",
    "    print('subject2=',subject2)\n",
    "    print('subject3=',subject3)\n",
    "    print('subject4=',subject4)\n",
    "    print('subject5=',subject5)\n",
    "    total=subject1+subject2+subject3+subject4+subject5\n",
    "    percent=total/5\n",
    "    print('total:',total)\n",
    "    print('percent:',percent)"
   ]
  },
  {
   "cell_type": "code",
   "execution_count": 10,
   "id": "68dc07c7",
   "metadata": {},
   "outputs": [
    {
     "name": "stdout",
     "output_type": "stream",
     "text": [
      "enter subject123\n",
      "enter subject245\n",
      "enter subject334\n",
      "enter subject423\n",
      "enter subject523\n",
      "subject1= 23\n",
      "subject2= 45\n",
      "subject3= 34\n",
      "subject4= 23\n",
      "subject5= 23\n",
      "total: 148\n",
      "percent: 29.6\n"
     ]
    }
   ],
   "source": [
    "percentage()"
   ]
  },
  {
   "cell_type": "code",
   "execution_count": 21,
   "id": "f8c135f8",
   "metadata": {},
   "outputs": [],
   "source": [
    "#Height:3\n",
    "#Breadth:4\n",
    "#Area formula: (Height*Breadth)/2\n",
    "#Area of Triangle:  6.0\n",
    "#Height1:3\n",
    "#Height2:4\n",
    "#Breadth:45\n",
    "#Perimeter formula: Height1+Height2+Breadth\n",
    "#Perimeter of Triangle:  52\n",
    "def triangle():\n",
    "    a=Height*Breadth/2\n",
    "    print('area of  triangle:',area)\n",
    "    parameter = Height1+Height2+Breadth1\n",
    "    print('parameter of triangle:',parameter)"
   ]
  },
  {
   "cell_type": "code",
   "execution_count": 22,
   "id": "e4062d33",
   "metadata": {},
   "outputs": [
    {
     "name": "stdout",
     "output_type": "stream",
     "text": [
      "enter a height:3\n",
      "enter a breadth:4\n",
      "enter a height1:3\n",
      "enter a height2:4\n",
      "enter a breadth:45\n"
     ]
    }
   ],
   "source": [
    "    Height = float(input('enter a height:'))\n",
    "    print(Height)\n",
    "    Breadth = float(input('enter a breadth:'))\n",
    "    print(breadth)\n",
    "    Height1 = float(input('enter a height1:'))\n",
    "    print(height1:)\n",
    "    Height2 = float(input('enter a height2:'))\n",
    "    print(height1:)\n",
    "    Breadth1 = float(input('enter a breadth1:'))\n",
    "    print(height1:)"
   ]
  },
  {
   "cell_type": "raw",
   "id": "ee55f605",
   "metadata": {},
   "source": [
    "triangle()"
   ]
  },
  {
   "cell_type": "code",
   "execution_count": 27,
   "id": "f22eb316",
   "metadata": {},
   "outputs": [],
   "source": [
    "#Height:3\n",
    "#Breadth:4\n",
    "#Area formula: (Height*Breadth)/2\n",
    "#Area of Triangle:  6.0\n",
    "#Height1:3\n",
    "#Height2:4\n",
    "#Breadth:45\n",
    "#Perimeter formula: Height1+Height2+Breadth\n",
    "#Perimeter of Triangle:  52\n",
    "def triangle():\n",
    "    print('height:',Height)\n",
    "    print(\"breadth:\",Breadth)\n",
    "    area=Height*Breadth/2\n",
    "    print('Area of triangle:',area)\n",
    "    print('height1:',Height1)\n",
    "    print('height2:',Height2) \n",
    "    print(\"breadth1:\",Breadth1)\n",
    "    parameter = Height1+Height2+Breadth1\n",
    "    print('parameter of triangle:',parameter)"
   ]
  },
  {
   "cell_type": "code",
   "execution_count": 28,
   "id": "48628303",
   "metadata": {},
   "outputs": [
    {
     "name": "stdout",
     "output_type": "stream",
     "text": [
      "height: 3.0\n",
      "breadth: 4.0\n",
      "Area of triangle: 6.0\n",
      "height1: 3.0\n",
      "height2: 4.0\n",
      "breadth1: 45.0\n",
      "parameter of triangle: 52.0\n"
     ]
    }
   ],
   "source": [
    "triangle()"
   ]
  },
  {
   "cell_type": "code",
   "execution_count": null,
   "id": "e4e770e3",
   "metadata": {},
   "outputs": [],
   "source": []
  }
 ],
 "metadata": {
  "kernelspec": {
   "display_name": "Python 3 (ipykernel)",
   "language": "python",
   "name": "python3"
  },
  "language_info": {
   "codemirror_mode": {
    "name": "ipython",
    "version": 3
   },
   "file_extension": ".py",
   "mimetype": "text/x-python",
   "name": "python",
   "nbconvert_exporter": "python",
   "pygments_lexer": "ipython3",
   "version": "3.9.13"
  }
 },
 "nbformat": 4,
 "nbformat_minor": 5
}
